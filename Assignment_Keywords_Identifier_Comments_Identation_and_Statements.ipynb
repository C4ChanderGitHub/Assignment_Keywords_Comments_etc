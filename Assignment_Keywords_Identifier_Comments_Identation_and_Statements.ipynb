{
 "cells": [
  {
   "cell_type": "markdown",
   "id": "67e3d5f7",
   "metadata": {},
   "source": [
    "# 1. Explain the significance of Python Keywords and provide examples of five keywords."
   ]
  },
  {
   "cell_type": "code",
   "execution_count": 1,
   "id": "9ed335ed",
   "metadata": {},
   "outputs": [
    {
     "data": {
      "text/plain": [
       "'\\nPython keywords are special words that have reserved meanings within the language. They define the syntax and structure of\\nyour code, essentially acting like the building blocks that tell Python how your program should run. These keywords cannot\\nbe used for anything else in your code, like variable or function names. They are always there and available, without needing\\nto be imported from a library.'"
      ]
     },
     "execution_count": 1,
     "metadata": {},
     "output_type": "execute_result"
    }
   ],
   "source": [
    "'''\n",
    "Python keywords are special words that have reserved meanings within the language. They define the syntax and structure of\n",
    "your code, essentially acting like the building blocks that tell Python how your program should run. These keywords cannot\n",
    "be used for anything else in your code, like variable or function names. They are always there and available, without needing\n",
    "to be imported from a library.'''"
   ]
  },
  {
   "cell_type": "code",
   "execution_count": 2,
   "id": "1f3072ef",
   "metadata": {},
   "outputs": [
    {
     "name": "stdout",
     "output_type": "stream",
     "text": [
      "\n",
      "Here is a list of the Python keywords.  Enter any keyword to get more help.\n",
      "\n",
      "False               class               from                or\n",
      "None                continue            global              pass\n",
      "True                def                 if                  raise\n",
      "and                 del                 import              return\n",
      "as                  elif                in                  try\n",
      "assert              else                is                  while\n",
      "async               except              lambda              with\n",
      "await               finally             nonlocal            yield\n",
      "break               for                 not                 \n",
      "\n"
     ]
    }
   ],
   "source": [
    "help('keywords')"
   ]
  },
  {
   "cell_type": "code",
   "execution_count": 3,
   "id": "8dd5d882",
   "metadata": {},
   "outputs": [
    {
     "name": "stdout",
     "output_type": "stream",
     "text": [
      "condition is true\n"
     ]
    }
   ],
   "source": [
    "#There are some examples of keywords\n",
    "#example of = if, True, Print and else\n",
    "\n",
    "if True:\n",
    "    print(\"condition is true\")\n",
    "else:\n",
    "    print(\"condition is not true\")\n",
    "\n"
   ]
  },
  {
   "cell_type": "code",
   "execution_count": 4,
   "id": "b437bf47",
   "metadata": {},
   "outputs": [
    {
     "name": "stdout",
     "output_type": "stream",
     "text": [
      "atleast one condition is true\n"
     ]
    }
   ],
   "source": [
    "#example of = if, or, print and else\n",
    "if 5 == 4 or 2 == 2:\n",
    "    print(\"atleast one condition is true\")\n",
    "else:\n",
    "    print(\"Both conditions are false\")"
   ]
  },
  {
   "cell_type": "code",
   "execution_count": 5,
   "id": "cd585076",
   "metadata": {},
   "outputs": [
    {
     "name": "stdout",
     "output_type": "stream",
     "text": [
      "hello worlds\n"
     ]
    }
   ],
   "source": [
    "# example of = if, True, else, False and print\n",
    "var1 = \"hello worlds\" if True else False\n",
    "print(var1)"
   ]
  },
  {
   "cell_type": "code",
   "execution_count": 6,
   "id": "79cd0085",
   "metadata": {},
   "outputs": [
    {
     "data": {
      "text/plain": [
       "True"
      ]
     },
     "execution_count": 6,
     "metadata": {},
     "output_type": "execute_result"
    }
   ],
   "source": [
    "# use of in\n",
    "\"C\" in \"Chander\""
   ]
  },
  {
   "cell_type": "markdown",
   "id": "9f3cf71a",
   "metadata": {},
   "source": [
    "# 2. Describe the rules for defining identifiers in Python and provide an examples"
   ]
  },
  {
   "cell_type": "code",
   "execution_count": 7,
   "id": "35cecb74",
   "metadata": {},
   "outputs": [
    {
     "data": {
      "text/plain": [
       "'Rules for defining identifiers\\nThe first character of the identifier must be a letter or an underscore but not a number.\\nPython is case-sensitive language always keep this things in your knowledge before create variable.\\nYou cannot use Python keywords as identifiers\\n'"
      ]
     },
     "execution_count": 7,
     "metadata": {},
     "output_type": "execute_result"
    }
   ],
   "source": [
    "'''Rules for defining identifiers\n",
    "The first character of the identifier must be a letter or an underscore but not a number.\n",
    "Python is case-sensitive language always keep this things in your knowledge before create variable.\n",
    "You cannot use Python keywords as identifiers\n",
    "'''"
   ]
  },
  {
   "cell_type": "code",
   "execution_count": 8,
   "id": "cf730ca7",
   "metadata": {},
   "outputs": [
    {
     "name": "stdout",
     "output_type": "stream",
     "text": [
      "use \"first_name\" instead of \"1stName\"\n",
      "\"chander\" and \"CHANDER\" are two different entity in Python because Python is case sensitive language\n",
      "you cannot create variable as class = \"abc\", continue = \"xyz\"\n"
     ]
    }
   ],
   "source": [
    "#example\n",
    "print(f'use \"first_name\" instead of \"1stName\"')\n",
    "print(f'\"chander\" and \"CHANDER\" are two different entity in Python because Python is case sensitive language')\n",
    "print(f'you cannot create variable as class = \"abc\", continue = \"xyz\"')"
   ]
  },
  {
   "cell_type": "markdown",
   "id": "6d4201da",
   "metadata": {},
   "source": [
    "# 3. What are comments in Python, and why are they useful?"
   ]
  },
  {
   "cell_type": "code",
   "execution_count": 9,
   "id": "af6b62cb",
   "metadata": {},
   "outputs": [
    {
     "data": {
      "text/plain": [
       "\"In Python, comments are lines of text that are ignored by the Python interpreter when the program runs.\\nThey act like explanatory notes within your code, providing additional context and information for human readers.\\n\\nHere's why comments are useful:\\n\\nImproved readability: Comments can explain complex code sections, the logic behind certain steps,\\nor the purpose of variables and functions. This makes your code easier to understand for yourself\\nand others, especially when revisiting code after some time.\\n\\nBetter collaboration:  Comments can be especially helpful when working with other programmers.\\nClear explanations in the code can improve teamwork and make it easier for others to understand your contribution.\\n\\nSelf-documentation: As you write code, you might forget the reasoning behind certain choices later. Comments help\\nyou document your thought process and the rationale behind your code.\\n\\nDisabling code sections (temporarily): You can use comments to temporarily disable code sections for testing\\npurposes. By adding a # symbol in front of the line, you can easily comment it out and uncomment it later when needed.\\n\""
      ]
     },
     "execution_count": 9,
     "metadata": {},
     "output_type": "execute_result"
    }
   ],
   "source": [
    "'''In Python, comments are lines of text that are ignored by the Python interpreter when the program runs.\n",
    "They act like explanatory notes within your code, providing additional context and information for human readers.\n",
    "\n",
    "Here's why comments are useful:\n",
    "\n",
    "Improved readability: Comments can explain complex code sections, the logic behind certain steps,\n",
    "or the purpose of variables and functions. This makes your code easier to understand for yourself\n",
    "and others, especially when revisiting code after some time.\n",
    "\n",
    "Better collaboration:  Comments can be especially helpful when working with other programmers.\n",
    "Clear explanations in the code can improve teamwork and make it easier for others to understand your contribution.\n",
    "\n",
    "Self-documentation: As you write code, you might forget the reasoning behind certain choices later. Comments help\n",
    "you document your thought process and the rationale behind your code.\n",
    "\n",
    "Disabling code sections (temporarily): You can use comments to temporarily disable code sections for testing\n",
    "purposes. By adding a # symbol in front of the line, you can easily comment it out and uncomment it later when needed.\n",
    "'''"
   ]
  },
  {
   "cell_type": "code",
   "execution_count": 10,
   "id": "bbcc58e0",
   "metadata": {},
   "outputs": [
    {
     "name": "stdout",
     "output_type": "stream",
     "text": [
      "Chander Parkash\n"
     ]
    }
   ],
   "source": [
    "#examples\n",
    "\n",
    "#assign a variable to Var2 & Var3\n",
    "\n",
    "Var2 = \"Chander\"\n",
    "Var3 = \"Parkash\"\n",
    "\n",
    "print(Var2 + \" \" + Var3) #concatenate the string and you get output as Chander Parkash "
   ]
  },
  {
   "cell_type": "markdown",
   "id": "4c3376ea",
   "metadata": {},
   "source": [
    "# 4. Why is proper indentation important in Python?"
   ]
  },
  {
   "cell_type": "code",
   "execution_count": 11,
   "id": "23353bfe",
   "metadata": {},
   "outputs": [
    {
     "data": {
      "text/plain": [
       "'There are some gap at the beginning of a line determines a Indentation. Statements indented at the same level belong to the\\nsame block and are executed together.\\n\\nProper indentation makes your Python code visually clear and easier to understand. It creates a hierarchy\\nand structure, allowing you to see how different parts of your code relate to each other. This is especially important for\\ncomplex programs with nested loops, conditional statements, and functions.'"
      ]
     },
     "execution_count": 11,
     "metadata": {},
     "output_type": "execute_result"
    }
   ],
   "source": [
    "'''There are some gap at the beginning of a line determines a Indentation. Statements indented at the same level belong to the\n",
    "same block and are executed together.\n",
    "\n",
    "Proper indentation makes your Python code visually clear and easier to understand. It creates a hierarchy\n",
    "and structure, allowing you to see how different parts of your code relate to each other. This is especially important for\n",
    "complex programs with nested loops, conditional statements, and functions.'''"
   ]
  },
  {
   "cell_type": "markdown",
   "id": "66a05f37",
   "metadata": {},
   "source": [
    "# 5. What happens if indentation is incorrect in Python?"
   ]
  },
  {
   "cell_type": "code",
   "execution_count": 12,
   "id": "f42d115c",
   "metadata": {},
   "outputs": [
    {
     "data": {
      "text/plain": [
       "\"Python relies on indentation to define code blocks, and if the indentation is inconsistent or misplaced, \\nyou'll encounter an IndentationError.\\n\\nif indentation is not proper then Python might misinterpret which statements belong to a certain block,\\nresulting in the wrong parts of your code being executed or skipped entirely.\\n\\nInconsistent or incorrect indentation makes your code visually cluttered and harder to understand.\\n\""
      ]
     },
     "execution_count": 12,
     "metadata": {},
     "output_type": "execute_result"
    }
   ],
   "source": [
    "'''Python relies on indentation to define code blocks, and if the indentation is inconsistent or misplaced, \n",
    "you'll encounter an IndentationError.\n",
    "\n",
    "if indentation is not proper then Python might misinterpret which statements belong to a certain block,\n",
    "resulting in the wrong parts of your code being executed or skipped entirely.\n",
    "\n",
    "Inconsistent or incorrect indentation makes your code visually cluttered and harder to understand.\n",
    "'''"
   ]
  },
  {
   "cell_type": "markdown",
   "id": "332b7430",
   "metadata": {},
   "source": [
    "# 6. Differentiate between expression and statement in python with examples."
   ]
  },
  {
   "cell_type": "code",
   "execution_count": 13,
   "id": "34209d7c",
   "metadata": {},
   "outputs": [
    {
     "data": {
      "text/plain": [
       "'Expressions are combinations of values, variables, operators, and function calls that evaluate to a single result or value.\\nThey produce a single output after being evaluated by the Python interpreter.\\n'"
      ]
     },
     "execution_count": 13,
     "metadata": {},
     "output_type": "execute_result"
    }
   ],
   "source": [
    "#expression\n",
    "'''Expressions are combinations of values, variables, operators, and function calls that evaluate to a single result or value.\n",
    "They produce a single output after being evaluated by the Python interpreter.\n",
    "'''"
   ]
  },
  {
   "cell_type": "code",
   "execution_count": 14,
   "id": "a54ebb5a",
   "metadata": {},
   "outputs": [
    {
     "data": {
      "text/plain": [
       "49"
      ]
     },
     "execution_count": 14,
     "metadata": {},
     "output_type": "execute_result"
    }
   ],
   "source": [
    "#example\n",
    "\n",
    "7 * 7 #output comes 49 because product operator"
   ]
  },
  {
   "cell_type": "code",
   "execution_count": 15,
   "id": "93673a7e",
   "metadata": {},
   "outputs": [
    {
     "data": {
      "text/plain": [
       "'Chander Parkash'"
      ]
     },
     "execution_count": 15,
     "metadata": {},
     "output_type": "execute_result"
    }
   ],
   "source": [
    "\"Chan\" + \"der\" + \" \" + \"Parkash\" #concatenate the string with operator +"
   ]
  },
  {
   "cell_type": "code",
   "execution_count": 16,
   "id": "e8b5bdeb",
   "metadata": {},
   "outputs": [
    {
     "name": "stdout",
     "output_type": "stream",
     "text": [
      "length of the list1 is 7\n"
     ]
    }
   ],
   "source": [
    "list1 = [5,8,6,4,15,98,\"Chander\"]\n",
    "print(f\"length of the list1 is {len(list1)}\") #to find out length of the variable, list etc."
   ]
  },
  {
   "cell_type": "code",
   "execution_count": null,
   "id": "5c75f249",
   "metadata": {},
   "outputs": [],
   "source": []
  }
 ],
 "metadata": {
  "kernelspec": {
   "display_name": "Python 3 (ipykernel)",
   "language": "python",
   "name": "python3"
  },
  "language_info": {
   "codemirror_mode": {
    "name": "ipython",
    "version": 3
   },
   "file_extension": ".py",
   "mimetype": "text/x-python",
   "name": "python",
   "nbconvert_exporter": "python",
   "pygments_lexer": "ipython3",
   "version": "3.11.5"
  }
 },
 "nbformat": 4,
 "nbformat_minor": 5
}
